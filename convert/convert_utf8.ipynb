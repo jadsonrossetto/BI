{
 "cells": [
  {
   "cell_type": "code",
   "execution_count": 1,
   "id": "db926571",
   "metadata": {},
   "outputs": [],
   "source": [
    "import pandas as pd"
   ]
  },
  {
   "cell_type": "code",
   "execution_count": 6,
   "id": "99260805",
   "metadata": {},
   "outputs": [],
   "source": [
    "df = pd.read_csv(\"C:/Users/jadso/OneDrive - FAESA/BI/CovidPanel/MICRODADOS/MICRODADOS.csv\", sep=';', encoding=\"latin-1\", low_memory=False)"
   ]
  },
  {
   "cell_type": "code",
   "execution_count": null,
   "id": "5256674a",
   "metadata": {},
   "outputs": [],
   "source": [
    "df.to_csv(\"C:/Users/jadso/OneDrive - FAESA/BI/CovidPanel/MICRODADOS/MICRODADOS_UTF8.csv\", sep=';', encoding=\"utf-8\")"
   ]
  },
  {
   "cell_type": "code",
   "execution_count": null,
   "id": "f71cc18d",
   "metadata": {},
   "outputs": [],
   "source": []
  }
 ],
 "metadata": {
  "kernelspec": {
   "display_name": "Python 3 (ipykernel)",
   "language": "python",
   "name": "python3"
  },
  "language_info": {
   "codemirror_mode": {
    "name": "ipython",
    "version": 3
   },
   "file_extension": ".py",
   "mimetype": "text/x-python",
   "name": "python",
   "nbconvert_exporter": "python",
   "pygments_lexer": "ipython3",
   "version": "3.10.9"
  }
 },
 "nbformat": 4,
 "nbformat_minor": 5
}
